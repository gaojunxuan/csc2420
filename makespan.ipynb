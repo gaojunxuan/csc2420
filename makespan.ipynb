{
 "cells": [
  {
   "cell_type": "code",
   "execution_count": 95,
   "id": "84b5b908-512b-437f-aebc-9c0c99c8f2c7",
   "metadata": {},
   "outputs": [],
   "source": [
    "import random\n",
    "\n",
    "def makespan(m, jobs):\n",
    "    machines = [0 for _ in range(m)]\n",
    "    for j in jobs:\n",
    "        # find the least occupied machine\n",
    "        min_load = float('inf')\n",
    "        min_idx = -1\n",
    "        for i, l in enumerate(machines):\n",
    "            if l < min_load:\n",
    "                min_load = l\n",
    "                min_idx = i\n",
    "        machines[min_idx] += j\n",
    "    # print(machines)\n",
    "    return max(machines)\n",
    "        \n",
    "\n",
    "def sim_rand_makespan(m):\n",
    "    jobs = [1 for _ in range(m * (m-1))]\n",
    "    jobs.append(m)\n",
    "    # r = makespan(m, jobs)\n",
    "    # assert r == (2 * m - 1)\n",
    "    total = 0\n",
    "    repeat = 10000\n",
    "    for i in range(repeat):\n",
    "        random.shuffle(jobs)\n",
    "        r = makespan(m, jobs)\n",
    "        total += r\n",
    "    return total / repeat\n",
    "\n",
    "def sim_rand_makespan_2(m, e):\n",
    "    jobs = [1 for _ in range(m-1)]\n",
    "    for _ in range(int(1/e)):\n",
    "        jobs.append(e)\n",
    "    # r = makespan(m, jobs)\n",
    "    # assert r == (2 * m - 1)\n",
    "    total = 0\n",
    "    repeat = 10000\n",
    "    for i in range(repeat):\n",
    "        random.shuffle(jobs)\n",
    "        r = makespan(m, jobs)\n",
    "        total += r\n",
    "    return total / repeat\n",
    "\n",
    "def sim_makespan(m):\n",
    "    jobs = [1 for _ in range(m * (m-1))]\n",
    "    jobs.append(m)\n",
    "    r = makespan(m, jobs)\n",
    "    assert r == (2 * m - 1)\n",
    "    return r\n",
    "\n",
    "def sim_makespan_2(m, e):\n",
    "    jobs = [1 for _ in range(m-1)]\n",
    "    for _ in range(int(1/e)):\n",
    "        jobs.append(e)\n",
    "    r = makespan(m, jobs)\n",
    "    return r\n",
    "\n",
    "def opt_makespan(m, k):\n",
    "    small_jobs = m * (m - 1)\n",
    "    "
   ]
  },
  {
   "cell_type": "code",
   "execution_count": 69,
   "id": "e9ea6dab-9c43-4a9e-8f43-9e4d057e83b4",
   "metadata": {},
   "outputs": [
    {
     "data": {
      "text/plain": [
       "2.3286"
      ]
     },
     "execution_count": 69,
     "metadata": {},
     "output_type": "execute_result"
    }
   ],
   "source": [
    "sim_rand_makespan(2)"
   ]
  },
  {
   "cell_type": "code",
   "execution_count": 70,
   "id": "1ffa2130-27f6-47ac-89e0-a6e96c35fba2",
   "metadata": {},
   "outputs": [
    {
     "data": {
      "text/plain": [
       "9"
      ]
     },
     "execution_count": 70,
     "metadata": {},
     "output_type": "execute_result"
    }
   ],
   "source": [
    "sim_makespan(5)"
   ]
  },
  {
   "cell_type": "code",
   "execution_count": 106,
   "id": "59a935c6-d8e6-4402-94e3-6988e56df830",
   "metadata": {},
   "outputs": [
    {
     "data": {
      "text/plain": [
       "1.0"
      ]
     },
     "execution_count": 106,
     "metadata": {},
     "output_type": "execute_result"
    }
   ],
   "source": [
    "sim_rand_makespan_2(100, 0.99)"
   ]
  },
  {
   "cell_type": "code",
   "execution_count": 96,
   "id": "e76c4550-8e0c-4546-988d-9fdca2549927",
   "metadata": {},
   "outputs": [
    {
     "data": {
      "text/plain": [
       "1"
      ]
     },
     "execution_count": 96,
     "metadata": {},
     "output_type": "execute_result"
    }
   ],
   "source": [
    "sim_makespan_2(5, 0.5)"
   ]
  },
  {
   "cell_type": "code",
   "execution_count": 114,
   "id": "ccb6b989-f074-4d8c-a12c-0e5f7412d70d",
   "metadata": {},
   "outputs": [],
   "source": [
    "def opt_lb(m, jobs):\n",
    "    return (sum(jobs) // m) + 1"
   ]
  },
  {
   "cell_type": "code",
   "execution_count": 235,
   "id": "45cd1563-1462-4f8c-9f36-e65a3c7583c7",
   "metadata": {},
   "outputs": [],
   "source": [
    "import math\n",
    "\n",
    "def sim_rand_makespan_2(m):\n",
    "    k = int(0.5 * m)\n",
    "    print(\"k = {}\".format(k))\n",
    "    jobs = [1 for _ in range(m*(m-k))]\n",
    "    for i in range(k):\n",
    "        jobs.append(m)\n",
    "    total = 0\n",
    "    repeat = 1000\n",
    "    for i in range(repeat):\n",
    "        random.shuffle(jobs)\n",
    "        r = makespan(m, jobs)\n",
    "        total += r\n",
    "    return total / repeat"
   ]
  },
  {
   "cell_type": "code",
   "execution_count": 236,
   "id": "caac0b86-abf7-47a8-abd7-8204823963f1",
   "metadata": {},
   "outputs": [
    {
     "name": "stdout",
     "output_type": "stream",
     "text": [
      "k = 50\n"
     ]
    },
    {
     "data": {
      "text/plain": [
       "167.285"
      ]
     },
     "execution_count": 236,
     "metadata": {},
     "output_type": "execute_result"
    }
   ],
   "source": [
    "mm = 100\n",
    "sim_rand_makespan_2(mm)"
   ]
  },
  {
   "cell_type": "code",
   "execution_count": 139,
   "id": "cf61594c-050f-4a4c-8d16-ed79ba93b339",
   "metadata": {},
   "outputs": [
    {
     "data": {
      "text/plain": [
       "352"
      ]
     },
     "execution_count": 139,
     "metadata": {},
     "output_type": "execute_result"
    }
   ],
   "source": [
    "opt_lb(700, jobs)"
   ]
  },
  {
   "cell_type": "code",
   "execution_count": 143,
   "id": "5a0994ee-fe3a-4104-b438-92fb82ef477d",
   "metadata": {},
   "outputs": [
    {
     "data": {
      "text/plain": [
       "7.881"
      ]
     },
     "execution_count": 143,
     "metadata": {},
     "output_type": "execute_result"
    }
   ],
   "source": [
    "sim_rand_makespan_2(5)"
   ]
  },
  {
   "cell_type": "code",
   "execution_count": null,
   "id": "20b7e86a-9750-498a-95ad-fbbbedd3c886",
   "metadata": {},
   "outputs": [],
   "source": []
  }
 ],
 "metadata": {
  "kernelspec": {
   "display_name": "Python 3 (ipykernel)",
   "language": "python",
   "name": "python3"
  },
  "language_info": {
   "codemirror_mode": {
    "name": "ipython",
    "version": 3
   },
   "file_extension": ".py",
   "mimetype": "text/x-python",
   "name": "python",
   "nbconvert_exporter": "python",
   "pygments_lexer": "ipython3",
   "version": "3.10.6"
  }
 },
 "nbformat": 4,
 "nbformat_minor": 5
}
